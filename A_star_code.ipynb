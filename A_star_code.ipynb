{
 "cells": [
  {
   "cell_type": "code",
   "execution_count": 8,
   "id": "cea7434d",
   "metadata": {},
   "outputs": [],
   "source": [
    "import matplotlib.pyplot as plt\n",
    "import numpy as np\n",
    "from heapq import heappush, heappop\n",
    "import matplotlib.patches as mpatches\n",
    "\n",
    "# --------------------------\n",
    "# A* search algorithm\n",
    "def astar(maze, start, goal, heuristic):\n",
    "    \"\"\"\n",
    "    maze: 2D list (0=free,1=wall)\n",
    "    start, goal: (row,col)\n",
    "    heuristic: function(current, goal) -> float\n",
    "    \"\"\"\n",
    "    rows, cols = len(maze), len(maze[0])\n",
    "    open_set = []\n",
    "    heappush(open_set, (0 + heuristic(start, goal), 0, start, [start]))\n",
    "    visited = set()\n",
    "    \n",
    "    while open_set:\n",
    "        f, g, current, path = heappop(open_set)\n",
    "        if current == goal:\n",
    "            return path\n",
    "        if current in visited:\n",
    "            continue\n",
    "        visited.add(current)\n",
    "        \n",
    "        r, c = current\n",
    "        for dr, dc in [(-1,0),(1,0),(0,-1),(0,1)]:\n",
    "            nr, nc = r + dr, c + dc\n",
    "            if 0 <= nr < rows and 0 <= nc < cols and maze[nr][nc] == 0:\n",
    "                if (nr, nc) not in visited:\n",
    "                    new_g = g + 1\n",
    "                    new_f = new_g + heuristic((nr,nc), goal)\n",
    "                    heappush(open_set, (new_f, new_g, (nr,nc), path + [(nr,nc)]))\n",
    "    return None\n",
    "\n",
    "# --------------------------\n",
    "# Maze visualization\n",
    "def visualize_maze(maze, path=None, start=None, goal=None):\n",
    "    rows, cols = len(maze), len(maze[0])\n",
    "    grid = np.zeros((rows, cols, 3))\n",
    "    for r in range(rows):\n",
    "        for c in range(cols):\n",
    "            grid[r,c] = [0,0,0] if maze[r][c]==1 else [1,1,1]\n",
    "    if path:\n",
    "        for r,c in path:\n",
    "            if (r,c) != start and (r,c) != goal:\n",
    "                grid[r,c] = [0,0,1]   # blue path\n",
    "    if start: grid[start] = [0,1,0]  # green start\n",
    "    if goal:  grid[goal] = [1,0,0]   # red goal\n",
    "    plt.imshow(grid)\n",
    "    plt.axis('off')\n",
    "    legend_elements = [\n",
    "        mpatches.Patch(color='#4d4d4d', label='Wall'),\n",
    "        mpatches.Patch(color='#e0e0e0', label='Free space'),\n",
    "        mpatches.Patch(color='#4682B4', label='Path'),\n",
    "        mpatches.Patch(color='#006400', label='Start'),\n",
    "        mpatches.Patch(color='#D50032', label='Goal')\n",
    "    ]\n",
    "    plt.legend(handles=legend_elements, loc='upper right', bbox_to_anchor=(1.2, 1))\n",
    "    \n",
    "    plt.show()\n",
    "\n",
    "def manhattan_heuristic(a, b):\n",
    "    return abs(a[0] - b[0]) + abs(a[1] - b[1])"
   ]
  },
  {
   "cell_type": "code",
   "execution_count": 9,
   "id": "ffe8f367",
   "metadata": {},
   "outputs": [
    {
     "name": "stdout",
     "output_type": "stream",
     "text": [
      "Path found: [(0, 0), (1, 0), (2, 0), (2, 1), (2, 2), (3, 2), (3, 3), (3, 4), (4, 4)]\n",
      "Cost of path: 8\n",
      "Optimal: True\n"
     ]
    },
    {
     "data": {
      "image/png": "[encoded data removed]",
      "text/plain": [
       "<Figure size 640x480 with 1 Axes>"
      ]
     },
     "metadata": {},
     "output_type": "display_data"
    }
   ],
   "source": [
    "# Example maze\n",
    "maze = [\n",
    "    [0, 1, 0, 0, 0],\n",
    "    [0, 1, 0, 1, 0],\n",
    "    [0, 0, 0, 1, 0],\n",
    "    [1, 1, 0, 0, 0],\n",
    "    [0, 0, 0, 1, 0]\n",
    "]\n",
    "\n",
    "start = (0, 0)\n",
    "goal = (4, 4)\n",
    "\n",
    "# --------------------------\n",
    "# Step 1: Find path using standard Manhattan heuristic\n",
    "path = astar(maze, start, goal, manhattan_heuristic)\n",
    "\n",
    "# Step 2: Calculate path cost\n",
    "path_cost = len(path) - 1  # each move costs 1\n",
    "# optimal_cost = len(path) - 1 \n",
    "\n",
    "# Step 3: Since Manhattan is admissible, this path is optimal\n",
    "is_optimal = True\n",
    "\n",
    "\n",
    "# Step 4: Print results\n",
    "print(\"Path found:\", path)\n",
    "print(\"Cost of path:\", path_cost)\n",
    "print(\"Optimal:\", is_optimal)\n",
    "\n",
    "# Step 5: Visualize the path\n",
    "visualize_maze(maze, path, start, goal)\n",
    "\n"
   ]
  },
  {
   "cell_type": "markdown",
   "id": "82d8c718",
   "metadata": {},
   "source": [
    "Scaled-heuristic"
   ]
  },
  {
   "cell_type": "code",
   "execution_count": 10,
   "id": "684f4fc8",
   "metadata": {},
   "outputs": [],
   "source": [
    "def manhattan_scaled(current, goal):\n",
    "    return 1.5 * (abs(current[0] - goal[0]) + abs(current[1] - goal[1]))\n"
   ]
  },
  {
   "cell_type": "code",
   "execution_count": 11,
   "id": "1893d998",
   "metadata": {},
   "outputs": [
    {
     "name": "stdout",
     "output_type": "stream",
     "text": [
      "Scaled Manhattan Path found: [(0, 0), (1, 0), (2, 0), (2, 1), (2, 2), (3, 2), (3, 3), (3, 4), (4, 4)]\n",
      "Cost of path: 8\n",
      "Optimal: True\n"
     ]
    },
    {
     "data": {
      "image/png": "[encoded data removed]",
      "text/plain": [
       "<Figure size 640x480 with 1 Axes>"
      ]
     },
     "metadata": {},
     "output_type": "display_data"
    }
   ],
   "source": [
    "# Step 1: Find optimal path using standard Manhattan heuristic\n",
    "optimal_path = astar(maze, start, goal, manhattan_heuristic)\n",
    "optimal_cost = len(optimal_path) - 1  # store the optimal cost\n",
    "\n",
    "# Step 2: Find path using scaled Manhattan heuristic (1.5 * Manhattan)\n",
    "path_scaled = astar(maze, start, goal, manhattan_scaled)\n",
    "\n",
    "# Step 3: Calculate path cost\n",
    "cost_scaled = len(path_scaled) - 1\n",
    "\n",
    "# Step 4: Check if the path is optimal\n",
    "is_optimal_scaled = (cost_scaled == optimal_cost)\n",
    "\n",
    "# Step 5: Print results\n",
    "print(\"Scaled Manhattan Path found:\", path_scaled)\n",
    "print(\"Cost of path:\", cost_scaled)\n",
    "print(\"Optimal:\", is_optimal_scaled)\n",
    "\n",
    "# Step 6: Visualize the path\n",
    "visualize_maze(maze, path_scaled, start, goal)\n"
   ]
  },
  {
   "cell_type": "markdown",
   "id": "4e8d2f63",
   "metadata": {},
   "source": [
    "CASE-2 ::Violating Consistency"
   ]
  },
  {
   "cell_type": "code",
   "execution_count": 12,
   "id": "79ea2e1b",
   "metadata": {},
   "outputs": [],
   "source": [
    "def inconsistent_heuristic(current, goal):\n",
    "    if current == (2,2) and goal == (2,3):\n",
    "        return 0\n",
    "    return abs(current[0] - goal[0]) + abs(current[1] - goal[1])\n"
   ]
  },
  {
   "cell_type": "code",
   "execution_count": 13,
   "id": "106347fb",
   "metadata": {},
   "outputs": [
    {
     "name": "stdout",
     "output_type": "stream",
     "text": [
      "Inconsistent Heuristic Path found: [(0, 0), (1, 0), (2, 0), (2, 1), (2, 2), (3, 2), (3, 3), (3, 4), (4, 4)]\n",
      "Cost of path: 8\n",
      "Optimal: True\n"
     ]
    },
    {
     "data": {
      "image/png": "[encoded data removed]",
      "text/plain": [
       "<Figure size 640x480 with 1 Axes>"
      ]
     },
     "metadata": {},
     "output_type": "display_data"
    }
   ],
   "source": [
    "# Run A* with inconsistent heuristic\n",
    "path_inconsistent = astar(maze, start, goal, inconsistent_heuristic)\n",
    "\n",
    "# Calculate path cost\n",
    "cost_inconsistent = len(path_inconsistent) - 1\n",
    "\n",
    "# Check if path is optimal (compare with optimal_cost from Manhattan case)\n",
    "is_optimal_inconsistent = (cost_inconsistent == optimal_cost)\n",
    "\n",
    "# Print results\n",
    "print(\"Inconsistent Heuristic Path found:\", path_inconsistent)\n",
    "print(\"Cost of path:\", cost_inconsistent)\n",
    "print(\"Optimal:\", is_optimal_inconsistent)\n",
    "\n",
    "# Visualize the path\n",
    "visualize_maze(maze, path_inconsistent, start, goal)\n"
   ]
  }
 ],
 "metadata": {
  "kernelspec": {
   "display_name": "Python 3",
   "language": "python",
   "name": "python3"
  },
  "language_info": {
   "codemirror_mode": {
    "name": "ipython",
    "version": 3
   },
   "file_extension": ".py",
   "mimetype": "text/x-python",
   "name": "python",
   "nbconvert_exporter": "python",
   "pygments_lexer": "ipython3",
   "version": "3.11.9"
  }
 },
 "nbformat": 4,
 "nbformat_minor": 5
}
